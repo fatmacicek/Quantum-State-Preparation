{
 "cells": [
  {
   "cell_type": "markdown",
   "metadata": {},
   "source": [
    "# Mini-Project #3: QUANTUM STATE PREPARATION"
   ]
  },
  {
   "cell_type": "markdown",
   "metadata": {},
   "source": [
    "Write a Qiskit function that takes a $2^n$ dimensional vector, $\\psi \\in \\mathbb{C}^{2^n}$, such that $||\\psi||_2=1$, and outputs a circuit, $U$, such that\n",
    "$$\n",
    "U \\ket{0}_n = \\sum_{x\\in \\mathbb{F}_2^n} \\psi_x \\ket{x}_n .\n",
    "$$\n",
    "\n",
    "**Expectations:**\n",
    "\n",
    "$\\bullet$ Documentation.\n",
    "\n",
    "$\\bullet$ Working Qiskit code for all $n$ and demo for $n=3$."
   ]
  },
  {
   "cell_type": "markdown",
   "metadata": {},
   "source": [
    "# Solution:\n",
    "\n",
    "We will provide a construction based on induction. \n"
   ]
  },
  {
   "cell_type": "code",
   "execution_count": 33,
   "metadata": {},
   "outputs": [
    {
     "name": "stdout",
     "output_type": "stream",
     "text": [
      "Requirement already satisfied: qiskit in /Library/Frameworks/Python.framework/Versions/3.12/lib/python3.12/site-packages (2.0.0)\n",
      "Requirement already satisfied: numpy in /Library/Frameworks/Python.framework/Versions/3.12/lib/python3.12/site-packages (2.2.5)\n",
      "Requirement already satisfied: rustworkx>=0.15.0 in /Library/Frameworks/Python.framework/Versions/3.12/lib/python3.12/site-packages (from qiskit) (0.16.0)\n",
      "Requirement already satisfied: scipy>=1.5 in /Library/Frameworks/Python.framework/Versions/3.12/lib/python3.12/site-packages (from qiskit) (1.15.3)\n",
      "Requirement already satisfied: sympy>=1.3 in /Library/Frameworks/Python.framework/Versions/3.12/lib/python3.12/site-packages (from qiskit) (1.14.0)\n",
      "Requirement already satisfied: dill>=0.3 in /Library/Frameworks/Python.framework/Versions/3.12/lib/python3.12/site-packages (from qiskit) (0.4.0)\n",
      "Requirement already satisfied: python-dateutil>=2.8.0 in /Library/Frameworks/Python.framework/Versions/3.12/lib/python3.12/site-packages (from qiskit) (2.9.0.post0)\n",
      "Requirement already satisfied: stevedore>=3.0.0 in /Library/Frameworks/Python.framework/Versions/3.12/lib/python3.12/site-packages (from qiskit) (5.4.1)\n",
      "Requirement already satisfied: typing-extensions in /Library/Frameworks/Python.framework/Versions/3.12/lib/python3.12/site-packages (from qiskit) (4.13.2)\n",
      "Requirement already satisfied: symengine<0.14,>=0.11 in /Library/Frameworks/Python.framework/Versions/3.12/lib/python3.12/site-packages (from qiskit) (0.13.0)\n",
      "Requirement already satisfied: six>=1.5 in /Library/Frameworks/Python.framework/Versions/3.12/lib/python3.12/site-packages (from python-dateutil>=2.8.0->qiskit) (1.17.0)\n",
      "Requirement already satisfied: pbr>=2.0.0 in /Library/Frameworks/Python.framework/Versions/3.12/lib/python3.12/site-packages (from stevedore>=3.0.0->qiskit) (6.1.1)\n",
      "Requirement already satisfied: setuptools in /Library/Frameworks/Python.framework/Versions/3.12/lib/python3.12/site-packages (from pbr>=2.0.0->stevedore>=3.0.0->qiskit) (80.4.0)\n",
      "Requirement already satisfied: mpmath<1.4,>=1.1.0 in /Library/Frameworks/Python.framework/Versions/3.12/lib/python3.12/site-packages (from sympy>=1.3->qiskit) (1.3.0)\n",
      "Note: you may need to restart the kernel to use updated packages.\n"
     ]
    }
   ],
   "source": [
    "pip install qiskit numpy"
   ]
  },
  {
   "cell_type": "code",
   "execution_count": 34,
   "metadata": {},
   "outputs": [],
   "source": [
    "# Import packages\n",
    "from qiskit import quantum_info \n",
    "from qiskit.circuit import QuantumCircuit, QuantumRegister, AncillaRegister, Parameter\n",
    "from qiskit.circuit.library import DiagonalGate\n",
    "from qiskit.quantum_info import Statevector, Operator\n",
    "from qiskit import transpile\n",
    "import qiskit.circuit.library\n",
    "from qiskit.circuit.library.standard_gates import GlobalPhaseGate\n",
    "\n",
    "import matplotlib as mpl\n",
    "import numpy as np"
   ]
  },
  {
   "cell_type": "code",
   "execution_count": 35,
   "metadata": {},
   "outputs": [],
   "source": [
    "# Define a function that prepares an $n$-qubit state $\\psi$\n",
    "\n",
    "\n",
    "def qsp(psi):\n",
    "    \n",
    "# Check that the length of the vector psi is a power of 2\n",
    "    if np.log2(len(psi)) == int(np.log2(len(psi))):\n",
    "        n = int(np.log2(len(psi)))\n",
    "    else:\n",
    "        return False\n",
    "        \n",
    "# Define the vector consisting of moduli of each entry in psi\n",
    "    psi_abs = [np.absolute(x) for x in psi] \n",
    "    \n",
    "    if n == 1:\n",
    "        theta_0 = 2 * np.arccos(psi_abs[0])\n",
    "        quantum_register = QuantumRegister(size=1, name=\"q\")\n",
    "        qsp_circuit = QuantumCircuit(quantum_register, name=\"Quantum State Preparation n=1\")\n",
    "        qsp_circuit.ry(theta_0, quantum_register[0])\n",
    "    elif n == 2:\n",
    "        theta_0 = 2 * np.arccos(np.sqrt(np.sum(np.square(psi_abs[:2]))))\n",
    "        theta_10 = 2 * np.arccos(psi[0] / np.sqrt(np.sum(np.square(psi_abs[:2]))))\n",
    "        theta_11 = 2 * np.arccos(psi[2] / np.sqrt(np.sum(np.square(psi_abs[2:]))))\n",
    "        quantum_register = QuantumRegister(size=2, name=\"x\")\n",
    "        qsp_circuit = QuantumCircuit(quantum_register, name=\"Quantum State Preparation\")\n",
    "        qsp_circuit.ry(theta_0, quantum_register[1])\n",
    "        qsp_circuit.x(quantum_register[1])\n",
    "        qsp_circuit.cry(theta_10, quantum_register[1], quantum_register[0])\n",
    "        qsp_circuit.x(quantum_register[1])\n",
    "        qsp_circuit.cry(theta_11, quantum_register[1], quantum_register[0]) \n",
    "    elif n >= 3:\n",
    "        theta_0 = 2 * np.arccos(np.sqrt(np.sum(np.square(psi[::2]))))\n",
    "        quantum_register = QuantumRegister(size=n, name=\"x\")\n",
    "        qsp_circuit = QuantumCircuit(quantum_register, name=\"Quantum State Preparation\")\n",
    "        if np.sqrt(np.sum(np.square(psi[::2]))) != 0: \n",
    "            qsp_circuit.ry(theta_0, quantum_register[-1])\n",
    "            qsp_circuit.x(quantum_register[-1])           \n",
    "# Define psi_0, the n-qubit state within psi_abs        \n",
    "            psi_abs_zero = [x/np.cos(theta_0/2) for x in psi_abs[::2]]\n",
    "# Define psi_1, the n-qubit state within psi_abs         \n",
    "            psi_abs_one = [x/np.sin(theta_0/2) for x in psi_abs[1::2]]\n",
    "# Convert the circuit for psi_abs_zero into a gate and apply its 1 controlled version with the first n qubits as the target        \n",
    "            c_psi_abs_zero_gate = qsp(psi_abs_zero).to_gate().control(1)\n",
    "            qsp_circuit.append(c_psi_abs_zero_gate, [quantum_register[n-1]] + [quantum_register[i] for i in range(n-1)])\n",
    "            qsp_circuit.x(quantum_register[-1])\n",
    "# Convert the circuit for psi_abs_one into a gate and apply its 1 controlled version with the first n qubits as the target        \n",
    "            c_psi_abs_one_gate = qsp(psi_abs_one).to_gate().control(1)\n",
    "            qsp_circuit.append(c_psi_abs_one_gate, [quantum_register[n-1]] + [quantum_register[i] for i in range(n-1)])\n",
    "        if np.sqrt(np.sum(np.square(psi[::2]))) == 0: \n",
    "            psi_abs_one = [x/np.sin(theta_0/2) for x in psi_abs[1::2]]\n",
    "# Convert the circuit for psi_abs_one into a gate        \n",
    "            c_psi_abs_one_gate = qsp(psi_abs_one).to_gate()\n",
    "            qsp_circuit.append(c_psi_abs_one_gate, quantum_register[0:-1])\n",
    "            qsp_circuit.x(quantum_register[-1])\n",
    "# Define the vector of phases of each entry in psi\n",
    "    psi_phases = [np.e**(1j*np.angle(x)) for x in psi]\n",
    "    psi_phases_gate = DiagonalGate(psi_phases)\n",
    "    \n",
    "# Apply the suitable phase factors  \n",
    "    qsp_circuit.append(psi_phases_gate, qsp_circuit.qubits)\n",
    "\n",
    "# Return the constructed circuit as the output    \n",
    "    return qsp_circuit \n",
    "\n",
    "        "
   ]
  },
  {
   "cell_type": "markdown",
   "metadata": {},
   "source": [
    "# Comments about the case $n=1:$"
   ]
  },
  {
   "cell_type": "markdown",
   "metadata": {},
   "source": [
    "Let $\\ket{\\psi} = \\psi_0 \\ket{0} + \\psi_1 \\ket{1}.$ \n",
    "\n",
    "Here, we assume that $\\psi_0, \\psi_1 \\geq 0$, and take the phases into account in the general case $n\\geq 3$. \n",
    "Define the following angle\n",
    "\\begin{align}\n",
    "    \\theta_{0}     = 2 \\arccos \\big(\\psi_0 \\big). \n",
    "\\end{align}\n",
    "Then we observe that\n",
    "$$\n",
    "R_Y(\\theta_{0}) \\ket{0} = \\cos\\frac{\\theta_{0}}{2} \\ket{0}+ \\sin\\frac{\\theta_{0}}{2} \\ket{1}. \n",
    "$$"
   ]
  },
  {
   "cell_type": "markdown",
   "metadata": {},
   "source": [
    "In the following example for a given $\\psi$, $\\psi$ will be the output of the following circuit. "
   ]
  },
  {
   "cell_type": "code",
   "execution_count": 36,
   "metadata": {},
   "outputs": [
    {
     "data": {
      "image/png": "[encoded data removed]",
      "text/plain": [
       "<Figure size 185.453x117.056 with 1 Axes>"
      ]
     },
     "execution_count": 36,
     "metadata": {},
     "output_type": "execute_result"
    }
   ],
   "source": [
    "psi = [1/2, np.sqrt(3)/2]\n",
    "\n",
    "theta_0 = 2 * np.arccos(psi[0])\n",
    "\n",
    "# Define the circuit that prepares this state psi\n",
    "\n",
    "quantum_register = QuantumRegister(size=1, name=\"q\")\n",
    "\n",
    "\n",
    "qsp_circuit = QuantumCircuit(quantum_register, name=\"Quantum State Preparation n=1\")\n",
    "\n",
    "qsp_circuit.ry(theta_0, quantum_register[0])\n",
    "\n",
    "qsp_circuit.draw(output=\"mpl\")"
   ]
  },
  {
   "cell_type": "code",
   "execution_count": 37,
   "metadata": {},
   "outputs": [
    {
     "data": {
      "text/latex": [
       "$$\\frac{1}{2} |0\\rangle+\\frac{\\sqrt{3}}{2} |1\\rangle$$"
      ],
      "text/plain": [
       "<IPython.core.display.Latex object>"
      ]
     },
     "execution_count": 37,
     "metadata": {},
     "output_type": "execute_result"
    }
   ],
   "source": [
    "output = Statevector(qsp_circuit)\n",
    "output.draw(\"latex\")"
   ]
  },
  {
   "cell_type": "markdown",
   "metadata": {},
   "source": [
    "#  Comments about the case $n=2:$"
   ]
  },
  {
   "cell_type": "markdown",
   "metadata": {},
   "source": [
    "Suppose that for $\\psi_{00}, \\psi_{10}, \\psi_{01}, \\psi_{11} \\geq 0$,\n",
    "\\begin{align}\n",
    "\\ket{ \\psi}  &=  \\psi_{00} \\ket{00} + \\psi_{10} \\ket{10} + \\psi_{01} \\ket{01} + \\psi_{11} \\ket{11} \\\\\n",
    "&= \\sqrt{\\psi_{00}^2+\\psi_{10}^2} \\Big(\\frac{\\psi_{00}}{\\sqrt{\\psi_{00}^2+\\psi_{10}^2}} \\ket{00} +\\frac{\\psi_{10}}{\\sqrt{\\psi_{00}^2+\\psi_{10}^2}} \\ket{10} \\Big) \n",
    "+ \\sqrt{\\psi_{01}^2+\\psi_{11}^2} \\Big(\\frac{\\psi_{01}}{ \\sqrt{\\psi_{01}^2+\\psi_{11}^2}}  \\ket{01}  + \\frac{\\psi_{11}}{ \\sqrt{\\psi_{01}^2+\\psi_{11}^2}} \\ket{11} \\Big)  .\n",
    "\\end{align}\n",
    "\n",
    "Then\n",
    "\\begin{equation}\n",
    "\\ket{\\psi} = \\cos \\big( \\theta_0 / 2 \\big) \\Big( \\cos \\big( \\theta_{10} / 2 \\big) \\ket{0} + \\sin \\big( \\theta_{10} / 2 \\big) \\ket{1} \\Big) \\ket{0} + \\sin \\big( \\theta_0 / 2 \\big) \\Big( \\cos \\big( \\theta_{11} / 2 \\big) \\ket{0} + \\sin \\big( \\theta_{11} / 2 \\big) \\ket{1} \\Big) \\ket{1},\n",
    "\\end{equation}\n",
    "where\n",
    "\\begin{align}\n",
    "    \\theta_0        &= 2 \\arccos \\big( \\sqrt{\\psi_{00}^2 + \\psi_{10}^2} \\big), \\\\\n",
    "    \\theta_{10}     &= 2 \\arccos \\Big( \\tfrac{\\psi_{00}}{\\sqrt{\\psi_{00}^2 + \\psi_{10}^2}} \\Big), \\\\\n",
    "    \\theta_{11}     &= 2 \\arccos \\Big( \\tfrac{\\psi_{01}}{\\sqrt{\\psi_{01}^2 + \\psi_{11}^2}} \\Big). \\\\\n",
    "\\end{align}\n"
   ]
  },
  {
   "cell_type": "markdown",
   "metadata": {},
   "source": [
    "We recall the definition of $R_Y$: $$R_Y(\\theta)\\ket{0} = \\cos\\frac{\\theta}{2}\\ket{0}+\\sin\\frac{\\theta}{2}\\ket{1}.$$\n",
    "$$R_Y(\\theta)\\ket{1} = -\\sin\\frac{\\theta}{2}\\ket{0}+\\cos\\frac{\\theta}{2}\\ket{1}.$$"
   ]
  },
  {
   "cell_type": "markdown",
   "metadata": {},
   "source": [
    "Therefore, \n",
    "$$\n",
    "\\psi=\n",
    "\\cos(\\theta_0/2)\\big(R_Y(\\theta_{10})\\ket{0}\\big) \\ket{0}+\\sin(\\theta_0/2)\\big(R_Y(\\theta_{11})\\ket{0}\\big) \\ket{1}\n",
    "$$"
   ]
  },
  {
   "cell_type": "markdown",
   "metadata": {},
   "source": [
    "The following circuit will prepare this circuit. "
   ]
  },
  {
   "cell_type": "code",
   "execution_count": 38,
   "metadata": {},
   "outputs": [
    {
     "data": {
      "text/plain": [
       "<qiskit.circuit.instructionset.InstructionSet at 0x116253d30>"
      ]
     },
     "execution_count": 38,
     "metadata": {},
     "output_type": "execute_result"
    }
   ],
   "source": [
    "psi = [1/2, 1/2, 1/2, 1/2]\n",
    "\n",
    "# Define the angles that will be used with the R_Y gates\n",
    "\n",
    "theta_0 = 2 * np.arccos(np.sqrt(np.sum(np.square(psi[:2]))))\n",
    "theta_10 = 2 * np.arccos(psi[0] / np.sqrt(np.sum(np.square(psi[:2]))))\n",
    "theta_11 = 2 * np.arccos(psi[2] / np.sqrt(np.sum(np.square(psi[2:]))))\n",
    "\n",
    "# Define the circuit that prepares the state psi\n",
    "\n",
    "quantum_register = QuantumRegister(size=2, name=\"x\")\n",
    "qsp_circuit = QuantumCircuit(quantum_register, name=\"Quantum State Preparation\")\n",
    "qsp_circuit.ry(theta_0, quantum_register[1])\n",
    "qsp_circuit.x(quantum_register[1])\n",
    "qsp_circuit.cry(theta_10, quantum_register[1], quantum_register[0])\n",
    "qsp_circuit.x(quantum_register[1])\n",
    "qsp_circuit.cry(theta_11, quantum_register[1], quantum_register[0]) "
   ]
  },
  {
   "cell_type": "code",
   "execution_count": 39,
   "metadata": {},
   "outputs": [
    {
     "data": {
      "image/png": "[encoded data removed]",
      "text/plain": [
       "<Figure size 536.926x200.667 with 1 Axes>"
      ]
     },
     "execution_count": 39,
     "metadata": {},
     "output_type": "execute_result"
    }
   ],
   "source": [
    "qsp_circuit.draw(output=\"mpl\")"
   ]
  },
  {
   "cell_type": "code",
   "execution_count": 40,
   "metadata": {},
   "outputs": [
    {
     "data": {
      "text/latex": [
       "$$\\frac{1}{2} |00\\rangle+\\frac{1}{2} |01\\rangle+\\frac{1}{2} |10\\rangle+\\frac{1}{2} |11\\rangle$$"
      ],
      "text/plain": [
       "<IPython.core.display.Latex object>"
      ]
     },
     "execution_count": 40,
     "metadata": {},
     "output_type": "execute_result"
    }
   ],
   "source": [
    "output = Statevector(qsp_circuit)\n",
    "output.draw(\"latex\")"
   ]
  },
  {
   "cell_type": "markdown",
   "metadata": {},
   "source": [
    "# Comments about the case $n\\geq 3:$"
   ]
  },
  {
   "cell_type": "markdown",
   "metadata": {},
   "source": [
    "**Note.** Let $n=3$ for this note. In Qiskit, the computational basis elements are listed in the same order as their bit correspondents:\n",
    "$$\n",
    "\\ket{000}, \\ket{001}, \\ket{010}, \\ket{011}, \\ket{100},\\ket{101},\\ket{110}, \\ket{111}. \n",
    "$$\n",
    "We observe that the even indices run over basis elements with the zero qubit in the $\\ket{0}$ state, while the odd indices run over basis elements where zero qubit is in the state $\\ket{1}$."
   ]
  },
  {
   "cell_type": "markdown",
   "metadata": {},
   "source": [
    "Given a general $n$-qubit state $\\psi$ with $n\\geq 3$, we can write it as follows. \n",
    "$$\n",
    "\\psi = a \\, \\psi_0 \\otimes \\ket{0} + b\\, \\psi_1\\otimes \\ket{1} \\quad \\text{for }\\,(n-1)\\text{-qubit states }\\, \\psi_0, \\psi_1, \\,\\, \\text{for } \\, a, b \\geq 0 \\, \\text{ with } \\, a^2+b^2=1. \n",
    "$$"
   ]
  },
  {
   "cell_type": "markdown",
   "metadata": {},
   "source": [
    "Assume that the states $\\psi_0, \\psi_1$ can be prepared. "
   ]
  },
  {
   "cell_type": "markdown",
   "metadata": {},
   "source": [
    "We can rewrite $\\psi$ as\n",
    "$$\n",
    "\\psi = \\cos\\Big(\\frac{\\theta_0}{2}\\Big) \\psi_0 \\ket{0}+ \\sin\\Big(\\frac{\\theta_0}{2}\\Big) \\psi_1 \\ket{1},\n",
    "$$\n",
    "for $\\theta_0 = 2\\arccos(a)$, where $a = \\Big(\\sum_{\\substack{x \\in \\mathbb{F}_2^n, \\\\ x\\text{:even}}} \\psi_x^2\\Big)^{1/2}$. Our circuit above assumes that $a\\neq 0$. "
   ]
  },
  {
   "cell_type": "markdown",
   "metadata": {},
   "source": [
    "Suppose that $a=0$. Then we must have $b=1$ since we assumed that $b\\geq 0$, and we have $\\psi = \\psi_1 \\otimes \\ket{1}.$ This state can be prepared easily, supposing that the $(n-1)$-qubit state $\\psi_1$ is prepared."
   ]
  },
  {
   "cell_type": "markdown",
   "metadata": {},
   "source": [
    "# Toy example. $n=1.$"
   ]
  },
  {
   "cell_type": "code",
   "execution_count": 41,
   "metadata": {},
   "outputs": [
    {
     "name": "stdout",
     "output_type": "stream",
     "text": [
      "Statevector([-0.70710678+0.70710678j,  0.        +0.j        ],\n",
      "            dims=(2,))\n"
     ]
    }
   ],
   "source": [
    "psi = [-1/np.sqrt(2)+1j/np.sqrt(2), 1/np.sqrt(2)+1j/np.sqrt(2)]\n",
    "psi_phases = [np.e**(1j*np.angle(x)) for x in psi]\n",
    "psi_phases_gate = DiagonalGate(psi_phases)\n",
    "\n",
    "qc = QuantumCircuit(1)\n",
    "qc.append(psi_phases_gate, qc.qubits)\n",
    "Statevector(qc)"
   ]
  },
  {
   "cell_type": "code",
   "execution_count": 42,
   "metadata": {},
   "outputs": [
    {
     "data": {
      "text/latex": [
       "$$(- \\frac{\\sqrt{2}}{2} + \\frac{\\sqrt{2} i}{2}) |0\\rangle$$"
      ],
      "text/plain": [
       "<IPython.core.display.Latex object>"
      ]
     },
     "execution_count": 42,
     "metadata": {},
     "output_type": "execute_result"
    }
   ],
   "source": [
    "output = Statevector(qc)\n",
    "output.draw('latex')"
   ]
  },
  {
   "cell_type": "code",
   "execution_count": 43,
   "metadata": {},
   "outputs": [
    {
     "name": "stdout",
     "output_type": "stream",
     "text": [
      "Statevector([-0.70710678+0.70710678j,  0.        +0.j        ],\n",
      "            dims=(2,))\n"
     ]
    }
   ],
   "source": [
    "psi = [-1/np.sqrt(2)+1j/np.sqrt(2), 1/np.sqrt(2)+1j/np.sqrt(2)]\n",
    "qc= qsp(psi)\n",
    "Statevector(qc)"
   ]
  },
  {
   "cell_type": "code",
   "execution_count": 44,
   "metadata": {},
   "outputs": [
    {
     "data": {
      "text/latex": [
       "$$(- \\frac{\\sqrt{2}}{2} + \\frac{\\sqrt{2} i}{2}) |0\\rangle$$"
      ],
      "text/plain": [
       "<IPython.core.display.Latex object>"
      ]
     },
     "execution_count": 44,
     "metadata": {},
     "output_type": "execute_result"
    }
   ],
   "source": [
    "output = Statevector(qc)\n",
    "output.draw('latex')"
   ]
  },
  {
   "cell_type": "markdown",
   "metadata": {},
   "source": [
    "# Example #1. $n=3 .$"
   ]
  },
  {
   "cell_type": "code",
   "execution_count": 45,
   "metadata": {},
   "outputs": [
    {
     "name": "stdout",
     "output_type": "stream",
     "text": [
      "Statevector([ 0.35355339+0.00000000e+00j,  0.35355339+2.77555756e-17j,\n",
      "              0.35355339+0.00000000e+00j, -0.35355339+1.38777878e-16j,\n",
      "              0.35355339+0.00000000e+00j,  0.35355339+2.77555756e-17j,\n",
      "              0.35355339+0.00000000e+00j, -0.35355339+1.11022302e-16j],\n",
      "            dims=(2, 2, 2))\n"
     ]
    }
   ],
   "source": [
    "psi = [1/(2*np.sqrt(2)), 1/(2*np.sqrt(2)), 1/(2*np.sqrt(2)), -1/(2*np.sqrt(2)), 1/(2*np.sqrt(2)),1/(2*np.sqrt(2)), 1/(2*np.sqrt(2)), -1/(2*np.sqrt(2))]\n",
    "qc= qsp(psi)\n",
    "Statevector(qc)"
   ]
  },
  {
   "cell_type": "code",
   "execution_count": 46,
   "metadata": {},
   "outputs": [
    {
     "data": {
      "text/latex": [
       "$$\\frac{\\sqrt{2}}{4} |000\\rangle+\\frac{\\sqrt{2}}{4} |001\\rangle+\\frac{\\sqrt{2}}{4} |010\\rangle- \\frac{\\sqrt{2}}{4} |011\\rangle+\\frac{\\sqrt{2}}{4} |100\\rangle+\\frac{\\sqrt{2}}{4} |101\\rangle+\\frac{\\sqrt{2}}{4} |110\\rangle- \\frac{\\sqrt{2}}{4} |111\\rangle$$"
      ],
      "text/plain": [
       "<IPython.core.display.Latex object>"
      ]
     },
     "execution_count": 46,
     "metadata": {},
     "output_type": "execute_result"
    }
   ],
   "source": [
    "output = Statevector(qc)\n",
    "output.draw('latex')"
   ]
  },
  {
   "cell_type": "code",
   "execution_count": 47,
   "metadata": {},
   "outputs": [
    {
     "data": {
      "image/png": "[encoded data removed]",
      "text/plain": [
       "<Figure size 1456.85x284.278 with 1 Axes>"
      ]
     },
     "execution_count": 47,
     "metadata": {},
     "output_type": "execute_result"
    }
   ],
   "source": [
    "qsp(psi).draw('mpl')"
   ]
  },
  {
   "cell_type": "markdown",
   "metadata": {},
   "source": [
    "# Example #2. $n=3 .$"
   ]
  },
  {
   "cell_type": "markdown",
   "metadata": {},
   "source": [
    "Note that in the $3$-qubit state below, the even indexed qubit states have coefficients zero, and thus $a$ as defined above is zero."
   ]
  },
  {
   "cell_type": "code",
   "execution_count": 48,
   "metadata": {},
   "outputs": [
    {
     "name": "stdout",
     "output_type": "stream",
     "text": [
      "Statevector([ 0. +0.00000000e+00j,  0. +0.00000000e+00j,\n",
      "              0. +0.00000000e+00j,  0. +0.00000000e+00j,\n",
      "              0.5+0.00000000e+00j, -0.5+1.66533454e-16j,\n",
      "              0.5+0.00000000e+00j,  0.5+0.00000000e+00j],\n",
      "            dims=(2, 2, 2))\n"
     ]
    }
   ],
   "source": [
    "psi = [0, 1/2, 0, -1/2, 0, -1/2, 0, 1/2]\n",
    "qc= qsp(psi)\n",
    "Statevector(qc)"
   ]
  },
  {
   "cell_type": "code",
   "execution_count": 49,
   "metadata": {},
   "outputs": [
    {
     "data": {
      "text/latex": [
       "$$\\frac{1}{2} |100\\rangle- \\frac{1}{2} |101\\rangle+\\frac{1}{2} |110\\rangle+\\frac{1}{2} |111\\rangle$$"
      ],
      "text/plain": [
       "<IPython.core.display.Latex object>"
      ]
     },
     "execution_count": 49,
     "metadata": {},
     "output_type": "execute_result"
    }
   ],
   "source": [
    "output = Statevector(qc)\n",
    "output.draw('latex')"
   ]
  }
 ],
 "metadata": {
  "colab": {
   "provenance": []
  },
  "kernelspec": {
   "display_name": "Python 3 (ipykernel)",
   "language": "python",
   "name": "python3"
  },
  "language_info": {
   "codemirror_mode": {
    "name": "ipython",
    "version": 3
   },
   "file_extension": ".py",
   "mimetype": "text/x-python",
   "name": "python",
   "nbconvert_exporter": "python",
   "pygments_lexer": "ipython3",
   "version": "3.12.4"
  }
 },
 "nbformat": 4,
 "nbformat_minor": 4
}
