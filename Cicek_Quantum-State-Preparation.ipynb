{
 "cells": [
  {
   "cell_type": "markdown",
   "metadata": {},
   "source": [
    "# QUANTUM STATE PREPARATION"
   ]
  },
  {
   "cell_type": "markdown",
   "metadata": {},
   "source": [
    "## Goal.\n",
    "\n",
    "Write a Qiskit function that takes a $2^n$ dimensional vector, $\\psi \\in \\mathbb{C}^{2^n}$, such that $||\\psi||_2=1$, and outputs a circuit, $U$, such that\n",
    "$$\n",
    "U \\ket{0}_n = \\sum_{x\\in \\mathbb{F}_2^n} \\psi_x \\ket{x}_n .\n",
    "$$"
   ]
  },
  {
   "cell_type": "markdown",
   "metadata": {},
   "source": [
    "We will provide a construction based on induction that uses $R_Z$ multiplexers and the inverse cosine function.\n"
   ]
  },
  {
   "cell_type": "code",
   "execution_count": 1,
   "metadata": {},
   "outputs": [
    {
     "name": "stdout",
     "output_type": "stream",
     "text": [
      "Requirement already satisfied: qiskit in /Library/Frameworks/Python.framework/Versions/3.12/lib/python3.12/site-packages (2.0.0)\n",
      "Requirement already satisfied: numpy in /Library/Frameworks/Python.framework/Versions/3.12/lib/python3.12/site-packages (2.2.5)\n",
      "Requirement already satisfied: rustworkx>=0.15.0 in /Library/Frameworks/Python.framework/Versions/3.12/lib/python3.12/site-packages (from qiskit) (0.16.0)\n",
      "Requirement already satisfied: scipy>=1.5 in /Library/Frameworks/Python.framework/Versions/3.12/lib/python3.12/site-packages (from qiskit) (1.15.3)\n",
      "Requirement already satisfied: sympy>=1.3 in /Library/Frameworks/Python.framework/Versions/3.12/lib/python3.12/site-packages (from qiskit) (1.14.0)\n",
      "Requirement already satisfied: dill>=0.3 in /Library/Frameworks/Python.framework/Versions/3.12/lib/python3.12/site-packages (from qiskit) (0.4.0)\n",
      "Requirement already satisfied: python-dateutil>=2.8.0 in /Library/Frameworks/Python.framework/Versions/3.12/lib/python3.12/site-packages (from qiskit) (2.9.0.post0)\n",
      "Requirement already satisfied: stevedore>=3.0.0 in /Library/Frameworks/Python.framework/Versions/3.12/lib/python3.12/site-packages (from qiskit) (5.4.1)\n",
      "Requirement already satisfied: typing-extensions in /Library/Frameworks/Python.framework/Versions/3.12/lib/python3.12/site-packages (from qiskit) (4.13.2)\n",
      "Requirement already satisfied: symengine<0.14,>=0.11 in /Library/Frameworks/Python.framework/Versions/3.12/lib/python3.12/site-packages (from qiskit) (0.13.0)\n",
      "Requirement already satisfied: six>=1.5 in /Library/Frameworks/Python.framework/Versions/3.12/lib/python3.12/site-packages (from python-dateutil>=2.8.0->qiskit) (1.17.0)\n",
      "Requirement already satisfied: pbr>=2.0.0 in /Library/Frameworks/Python.framework/Versions/3.12/lib/python3.12/site-packages (from stevedore>=3.0.0->qiskit) (6.1.1)\n",
      "Requirement already satisfied: setuptools in /Library/Frameworks/Python.framework/Versions/3.12/lib/python3.12/site-packages (from pbr>=2.0.0->stevedore>=3.0.0->qiskit) (80.4.0)\n",
      "Requirement already satisfied: mpmath<1.4,>=1.1.0 in /Library/Frameworks/Python.framework/Versions/3.12/lib/python3.12/site-packages (from sympy>=1.3->qiskit) (1.3.0)\n",
      "Note: you may need to restart the kernel to use updated packages.\n"
     ]
    }
   ],
   "source": [
    "pip install qiskit numpy"
   ]
  },
  {
   "cell_type": "code",
   "execution_count": 2,
   "metadata": {},
   "outputs": [],
   "source": [
    "# Import packages\n",
    "from qiskit import quantum_info \n",
    "from qiskit.circuit import QuantumCircuit, QuantumRegister, AncillaRegister, Parameter\n",
    "from qiskit.circuit.library import DiagonalGate\n",
    "from qiskit.quantum_info import Statevector, Operator\n",
    "from qiskit import transpile\n",
    "import qiskit.circuit.library\n",
    "from qiskit.circuit.library.standard_gates import GlobalPhaseGate\n",
    "\n",
    "import matplotlib as mpl\n",
    "import numpy as np"
   ]
  },
  {
   "cell_type": "markdown",
   "metadata": {},
   "source": [
    "The following function returns a quantum circuit that produces the desired quantum state."
   ]
  },
  {
   "cell_type": "code",
   "execution_count": 3,
   "metadata": {},
   "outputs": [],
   "source": [
    "# Define a function that prepares an $n$-qubit state $\\psi$\n",
    "\n",
    "def qsp(psi):\n",
    "    \n",
    "# Check that the length of the vector psi is a power of 2\n",
    "    if np.log2(len(psi)) == int(np.log2(len(psi))):\n",
    "        n = int(np.log2(len(psi)))\n",
    "    else:\n",
    "        return False\n",
    "        \n",
    "# Define the vector consisting of moduli of entries in psi\n",
    "    psi_abs = [np.abs(x) for x in psi] \n",
    "\n",
    "# case n=1\n",
    "    \n",
    "    if n == 1:\n",
    "        theta_0 = 2 * np.arccos(psi_abs[0])\n",
    "        quantum_register = QuantumRegister(size=1, name=\"q\")\n",
    "        qsp_circuit = QuantumCircuit(quantum_register, name=\"qsp n=1\")\n",
    "        \n",
    "# Applying an equivalent of RY gate to qubit 0\n",
    "        qsp_circuit.sdg(quantum_register[0])\n",
    "        qsp_circuit.h(quantum_register[0])\n",
    "        qsp_circuit.rz(theta_0, quantum_register[0])\n",
    "        qsp_circuit.h(quantum_register[0])\n",
    "        qsp_circuit.s(quantum_register[0])\n",
    "\n",
    "# case n=2 \n",
    "    \n",
    "    elif n == 2:\n",
    "        theta_0 = 2 * np.arccos(np.sqrt(np.sum(np.square(psi_abs[:2]))))\n",
    "        theta_10 = 2 * np.arccos(psi_abs[0] / np.sqrt(np.sum(np.square(psi_abs[:2]))))\n",
    "        theta_11 = 2 * np.arccos(psi_abs[2] / np.sqrt(np.sum(np.square(psi_abs[2:]))))\n",
    "        quantum_register = QuantumRegister(size=2, name=\"q\")\n",
    "        qsp_circuit = QuantumCircuit(quantum_register, name=\"qsp\")\n",
    "        \n",
    "# Applying an equivalent of RY gate to qubit 1\n",
    "        qsp_circuit.sdg(quantum_register[1])\n",
    "        qsp_circuit.h(quantum_register[1])\n",
    "        qsp_circuit.rz(theta_0, quantum_register[1])\n",
    "        qsp_circuit.h(quantum_register[1])\n",
    "        qsp_circuit.s(quantum_register[1])\n",
    "        \n",
    "# Applying an X gate to qubit 1\n",
    "        \n",
    "        qsp_circuit.x(quantum_register[1])\n",
    "\n",
    "# Applying an equivalent of a controlled RY gate with control on qubit 1, target on qubit 0\n",
    "\n",
    "        qsp_circuit.sdg(quantum_register[0])\n",
    "        qsp_circuit.h(quantum_register[0])\n",
    "        qsp_circuit.crz(theta_10, quantum_register[1], quantum_register[0])\n",
    "        qsp_circuit.h(quantum_register[0])\n",
    "        qsp_circuit.s(quantum_register[0])\n",
    "        \n",
    "# Applying an X gate to qubit 1\n",
    "        \n",
    "        qsp_circuit.x(quantum_register[1])\n",
    "\n",
    "# Applying an equivalent of a controlled RY gate with control on qubit 1, target on qubit 0\n",
    "\n",
    "        qsp_circuit.sdg(quantum_register[0])\n",
    "        qsp_circuit.h(quantum_register[0])\n",
    "        qsp_circuit.crz(theta_11, quantum_register[1], quantum_register[0])\n",
    "        qsp_circuit.h(quantum_register[0])\n",
    "        qsp_circuit.s(quantum_register[0])\n",
    "\n",
    "# case n bigger than 2\n",
    "    \n",
    "    elif n >= 3:\n",
    "        theta_0 = 2 * np.arccos(np.sqrt(np.sum(np.square(psi_abs[::2]))))\n",
    "        quantum_register = QuantumRegister(size=n, name=\"q\")\n",
    "        qsp_circuit = QuantumCircuit(quantum_register, name=\"qsp\")\n",
    "        if np.sqrt(np.sum(np.square(psi_abs[::2]))) != 0: \n",
    "            \n",
    "# Applying an equivalent of RY gate to the last qubit\n",
    "            qsp_circuit.sdg(quantum_register[-1])\n",
    "            qsp_circuit.h(quantum_register[-1])\n",
    "            qsp_circuit.rz(theta_0, quantum_register[-1])\n",
    "            qsp_circuit.h(quantum_register[-1])\n",
    "            qsp_circuit.s(quantum_register[-1])  \n",
    "        \n",
    "# Applying an X gate to the last qubit\n",
    "            qsp_circuit.x(quantum_register[-1])    \n",
    "        \n",
    "# Define psi_0, the n-qubit state within psi_abs        \n",
    "            psi_abs_zero = [x/np.cos(theta_0/2) for x in psi_abs[::2]]\n",
    "        \n",
    "# Define psi_1, the n-qubit state within psi_abs         \n",
    "            psi_abs_one = [x/np.sin(theta_0/2) for x in psi_abs[1::2]]\n",
    "        \n",
    "# Convert the circuit for psi_abs_zero into a gate and apply its 1 controlled version with the first n qubits as the target        \n",
    "            c_psi_abs_zero_gate = qsp(psi_abs_zero).to_gate().control(1)\n",
    "            qsp_circuit.append(c_psi_abs_zero_gate, [quantum_register[n-1]] + [quantum_register[i] for i in range(n-1)])\n",
    "            qsp_circuit.x(quantum_register[-1])\n",
    "        \n",
    "# Convert the circuit for psi_abs_one into a gate and apply its 1 controlled version with the first n qubits as the target        \n",
    "            c_psi_abs_one_gate = qsp(psi_abs_one).to_gate().control(1)\n",
    "            qsp_circuit.append(c_psi_abs_one_gate, [quantum_register[n-1]] + [quantum_register[i] for i in range(n-1)])\n",
    "        elif np.sqrt(np.sum(np.square(psi_abs[::2]))) == 0: \n",
    "            psi_abs_one = [x/np.sin(theta_0/2) for x in psi_abs[1::2]]\n",
    "            \n",
    "# Convert the circuit for psi_abs_one into a gate        \n",
    "            c_psi_abs_one_gate = qsp(psi_abs_one).to_gate()\n",
    "            qsp_circuit.append(c_psi_abs_one_gate, quantum_register[1:])\n",
    "            qsp_circuit.x(quantum_register[0])\n",
    "            \n",
    "# Define the vector consisting of phases of each entry in psi\n",
    "    psi_phases = [np.e**(1j*np.angle(x)) for x in psi]\n",
    "    psi_phases_gate = DiagonalGate(psi_phases)\n",
    "    \n",
    "# Apply the suitable phase factors  \n",
    "    qsp_circuit.append(psi_phases_gate, qsp_circuit.qubits)\n",
    "\n",
    "# Return the constructed circuit as the output    \n",
    "    return qsp_circuit \n"
   ]
  },
  {
   "cell_type": "markdown",
   "metadata": {},
   "source": [
    "We now explain the construction of this function. We start with the basic case of $n=1$ and build our way up to a general $n$."
   ]
  },
  {
   "cell_type": "markdown",
   "metadata": {},
   "source": [
    "## Comments about the case $n=1$."
   ]
  },
  {
   "cell_type": "markdown",
   "metadata": {},
   "source": [
    "Let $\\ket{\\psi} = \\psi_0 \\ket{0} + \\psi_1 \\ket{1}.$ \n",
    "\n",
    "Here, we assume that $\\psi_0, \\psi_1 \\geq 0$, as we will take the phases into account later on. \n",
    "Define the following angle\n",
    "\\begin{align}\n",
    "    \\theta_{0}     = 2 \\arccos \\big(\\psi_0 \\big). \n",
    "\\end{align}\n",
    "Note that\n",
    " $$R_Y(\\theta_0)\\ket{0} = \\cos\\frac{\\theta_0}{2}\\ket{0}+\\sin\\frac{\\theta_0}{2}\\ket{1}.$$\n",
    "$$R_Y(\\theta_0)\\ket{1} = -\\sin\\frac{\\theta_0}{2}\\ket{0}+\\cos\\frac{\\theta_0}{2}\\ket{1}.$$"
   ]
  },
  {
   "cell_type": "markdown",
   "metadata": {},
   "source": [
    "$\\psi$ will be the output of the following circuit. "
   ]
  },
  {
   "cell_type": "code",
   "execution_count": 28,
   "metadata": {},
   "outputs": [
    {
     "data": {
      "image/png": "[encoded data removed]",
      "text/plain": [
       "<Figure size 185.453x117.056 with 1 Axes>"
      ]
     },
     "execution_count": 28,
     "metadata": {},
     "output_type": "execute_result"
    }
   ],
   "source": [
    "# Without loss of generality, suppose that psi is as given as a unit vector with positive entries.\n",
    "\n",
    "psi = [1/2, np.sqrt(3)/2]\n",
    "\n",
    "theta_0 = 2 * np.arccos(psi[0])\n",
    "\n",
    "# Define the circuit that prepares the state psi\n",
    "\n",
    "quantum_register = QuantumRegister(size=1, name=\"q\")\n",
    "\n",
    "\n",
    "qsp_circuit = QuantumCircuit(quantum_register, name=\"qsp\")\n",
    "\n",
    "qsp_circuit.ry(theta_0, quantum_register[0])\n",
    "\n",
    "# Draw the circuit \n",
    "\n",
    "qsp_circuit.draw(output=\"mpl\")"
   ]
  },
  {
   "cell_type": "code",
   "execution_count": 29,
   "metadata": {},
   "outputs": [
    {
     "data": {
      "text/latex": [
       "$$\\frac{1}{2} |0\\rangle+\\frac{\\sqrt{3}}{2} |1\\rangle$$"
      ],
      "text/plain": [
       "<IPython.core.display.Latex object>"
      ]
     },
     "execution_count": 29,
     "metadata": {},
     "output_type": "execute_result"
    }
   ],
   "source": [
    "# Check the output of the circuit and compare it with psi\n",
    "\n",
    "output = Statevector(qsp_circuit)\n",
    "output.draw(\"latex\")"
   ]
  },
  {
   "cell_type": "markdown",
   "metadata": {},
   "source": [
    "We want to use the $R_Z$ gate instead of the $R_Y$ gate. For this, we note some observations relating the Pauli $Y$ and $Z$ matrices.\n",
    "\n",
    "It is known that\n",
    "$$\n",
    "X= HZH \\quad \\text{and} \\quad Y = S X S^\\dagger, \\,\\, \\text{where }\\,  S= P(\\pi/2).\n",
    "$$\n",
    "for the phase matrix $P= \\begin{bmatrix} 1 & 0 \\\\ 0 & e^{i\\theta} \\end{bmatrix}$. \n",
    "Therefore, \n",
    "$$\n",
    "Y = S HZH S^\\dagger,\n",
    "$$\n",
    "and since $(SH)^\\dagger = H S^\\dagger$, the matrix exponentiation gives\n",
    "$$\n",
    "R_Y(\\theta) = e^{-i\\theta Y/2}= S H e^{-i\\theta Z/2} H S^\\dagger= S H R_Z(\\theta) H S^\\dagger.\n",
    "$$"
   ]
  },
  {
   "cell_type": "markdown",
   "metadata": {},
   "source": [
    "We accordingly rewrite the above circuit using the $R_Z$ gate."
   ]
  },
  {
   "cell_type": "code",
   "execution_count": 30,
   "metadata": {
    "jp-MarkdownHeadingCollapsed": true
   },
   "outputs": [
    {
     "data": {
      "image/png": "[encoded data removed]",
      "text/plain": [
       "<Figure size 519.897x117.056 with 1 Axes>"
      ]
     },
     "execution_count": 30,
     "metadata": {},
     "output_type": "execute_result"
    }
   ],
   "source": [
    "psi = [1/2, np.sqrt(3)/2]\n",
    "\n",
    "theta_0 = 2 * np.arccos(psi[0])\n",
    "\n",
    "# Define the circuit that prepares this state psi\n",
    "\n",
    "quantum_register = QuantumRegister(size=1, name=\"q\")\n",
    "\n",
    "qsp_circuit = QuantumCircuit(quantum_register, name=\"qsp\")\n",
    "\n",
    "qsp_circuit.sdg(quantum_register[0])\n",
    "qsp_circuit.h(quantum_register[0])\n",
    "qsp_circuit.rz(theta_0, quantum_register[0])\n",
    "qsp_circuit.h(quantum_register[0])\n",
    "qsp_circuit.s(quantum_register[0])\n",
    "\n",
    "# Draw the circuit\n",
    "qsp_circuit.draw(output=\"mpl\")"
   ]
  },
  {
   "cell_type": "code",
   "execution_count": 32,
   "metadata": {},
   "outputs": [
    {
     "data": {
      "text/latex": [
       "$$\\frac{1}{2} |0\\rangle+\\frac{\\sqrt{3}}{2} |1\\rangle$$"
      ],
      "text/plain": [
       "<IPython.core.display.Latex object>"
      ]
     },
     "execution_count": 32,
     "metadata": {},
     "output_type": "execute_result"
    }
   ],
   "source": [
    "# Check the output of the circuit\n",
    "\n",
    "output= Statevector(qsp_circuit)\n",
    "output.draw('latex')"
   ]
  },
  {
   "cell_type": "markdown",
   "metadata": {},
   "source": [
    "##  Comments about the case $n=2$."
   ]
  },
  {
   "cell_type": "markdown",
   "metadata": {},
   "source": [
    "Suppose that for $\\psi_{00}, \\psi_{10}, \\psi_{01}, \\psi_{11} \\geq 0$, and\n",
    "\\begin{align}\n",
    "\\ket{ \\psi}  &=  \\psi_{00} \\ket{00} + \\psi_{10} \\ket{10} + \\psi_{01} \\ket{01} + \\psi_{11} \\ket{11} \\\\\n",
    "&= \\sqrt{\\psi_{00}^2+\\psi_{10}^2} \\Big(\\frac{\\psi_{00}}{\\sqrt{\\psi_{00}^2+\\psi_{10}^2}} \\ket{00} +\\frac{\\psi_{10}}{\\sqrt{\\psi_{00}^2+\\psi_{10}^2}} \\ket{10} \\Big) \n",
    "+ \\sqrt{\\psi_{01}^2+\\psi_{11}^2} \\Big(\\frac{\\psi_{01}}{ \\sqrt{\\psi_{01}^2+\\psi_{11}^2}}  \\ket{01}  + \\frac{\\psi_{11}}{ \\sqrt{\\psi_{01}^2+\\psi_{11}^2}} \\ket{11} \\Big)  .\n",
    "\\end{align}\n",
    "\n",
    "Then\n",
    "\\begin{equation}\n",
    "\\ket{\\psi} = \\cos \\big( \\theta_0 / 2 \\big) \\Big( \\cos \\big( \\theta_{10} / 2 \\big) \\ket{0} + \\sin \\big( \\theta_{10} / 2 \\big) \\ket{1} \\Big) \\ket{0} + \\sin \\big( \\theta_0 / 2 \\big) \\Big( \\cos \\big( \\theta_{11} / 2 \\big) \\ket{0} + \\sin \\big( \\theta_{11} / 2 \\big) \\ket{1} \\Big) \\ket{1},\n",
    "\\end{equation}\n",
    "where\n",
    "\\begin{align}\n",
    "    \\theta_0        &= 2 \\arccos \\big( \\sqrt{\\psi_{00}^2 + \\psi_{10}^2} \\big), \\\\\n",
    "    \\theta_{10}     &= 2 \\arccos \\Big( \\tfrac{\\psi_{00}}{\\sqrt{\\psi_{00}^2 + \\psi_{10}^2}} \\Big), \\\\\n",
    "    \\theta_{11}     &= 2 \\arccos \\Big( \\tfrac{\\psi_{01}}{\\sqrt{\\psi_{01}^2 + \\psi_{11}^2}} \\Big). \\\\\n",
    "\\end{align}\n"
   ]
  },
  {
   "cell_type": "markdown",
   "metadata": {},
   "source": [
    "Therefore, by the action of $R_Y$, \n",
    "$$\n",
    "\\psi=\n",
    "\\cos(\\theta_0/2)\\big(R_Y(\\theta_{10})\\ket{0}\\big) \\ket{0}+\\sin(\\theta_0/2)\\big(R_Y(\\theta_{11})\\ket{0}\\big) \\ket{1}\n",
    "$$"
   ]
  },
  {
   "cell_type": "markdown",
   "metadata": {},
   "source": [
    "The following circuit will prepare this state. "
   ]
  },
  {
   "cell_type": "code",
   "execution_count": 36,
   "metadata": {},
   "outputs": [
    {
     "data": {
      "text/plain": [
       "<qiskit.circuit.instructionset.InstructionSet at 0x129340c70>"
      ]
     },
     "execution_count": 36,
     "metadata": {},
     "output_type": "execute_result"
    }
   ],
   "source": [
    "# Choose a psi without loss of generality\n",
    "\n",
    "psi = [1/2, 1/2, 1/2, 1/2]\n",
    "\n",
    "# Define the angles that will be used with the R_Y gates\n",
    "\n",
    "theta_0 = 2 * np.arccos(np.sqrt(np.sum(np.square(psi[:2]))))\n",
    "theta_10 = 2 * np.arccos(psi[0] / np.sqrt(np.sum(np.square(psi[:2]))))\n",
    "theta_11 = 2 * np.arccos(psi[2] / np.sqrt(np.sum(np.square(psi[2:]))))\n",
    "\n",
    "# Define the circuit that prepares the state psi\n",
    "\n",
    "quantum_register = QuantumRegister(size=2, name=\"q\")\n",
    "qsp_circuit = QuantumCircuit(quantum_register, name=\"qsp\")\n",
    "qsp_circuit.ry(theta_0, quantum_register[1])\n",
    "qsp_circuit.x(quantum_register[1])\n",
    "qsp_circuit.cry(theta_10, quantum_register[1], quantum_register[0])\n",
    "qsp_circuit.x(quantum_register[1])\n",
    "qsp_circuit.cry(theta_11, quantum_register[1], quantum_register[0]) "
   ]
  },
  {
   "cell_type": "code",
   "execution_count": 33,
   "metadata": {},
   "outputs": [
    {
     "data": {
      "image/png": "[encoded data removed]",
      "text/plain": [
       "<Figure size 519.897x117.056 with 1 Axes>"
      ]
     },
     "execution_count": 33,
     "metadata": {},
     "output_type": "execute_result"
    }
   ],
   "source": [
    "# Draw the circuit\n",
    "qsp_circuit.draw(output=\"mpl\")"
   ]
  },
  {
   "cell_type": "code",
   "execution_count": 35,
   "metadata": {},
   "outputs": [
    {
     "data": {
      "text/latex": [
       "$$\\frac{1}{2} |00\\rangle+\\frac{1}{2} |01\\rangle+\\frac{1}{2} |10\\rangle+\\frac{1}{2} |11\\rangle$$"
      ],
      "text/plain": [
       "<IPython.core.display.Latex object>"
      ]
     },
     "execution_count": 35,
     "metadata": {},
     "output_type": "execute_result"
    }
   ],
   "source": [
    "# Check the output of the circuit and compare it with the psi\n",
    "output = Statevector(qsp_circuit)\n",
    "output.draw(\"latex\")"
   ]
  },
  {
   "cell_type": "markdown",
   "metadata": {},
   "source": [
    "We again substitute $S H R_Z(\\theta) H S^\\dagger$ for $R_Y(\\theta)$. \n",
    "\n",
    "We also need an expression for the controlled $R_Y$-gate $C R_Y$ in terms of the controlled $R_Z$ gate $C R_Z$. This is not difficult to obtain, since it also follows from the identity\n",
    "$$\n",
    "R_Y(\\theta) = S H R_Z(\\theta) H S^\\dagger \\quad \\text{with } \\,   (S H)^\\dagger = H S^\\dagger, \n",
    "$$\n",
    "together with \n",
    "$$\n",
    "CU= \\ket{0} \\bra{0} \\otimes I + \\ket{1} \\bra{1} \\otimes U \\quad \\text{for a general unitary } U \\in U(2),\n",
    "$$\n",
    "that\n",
    "$$\n",
    "CR_Y(\\theta) = \\big(I\\otimes (SH) \\big) \\, CR_Z(\\theta) \\, \\big( I\\otimes (H S^\\dagger)\\big).\n",
    "$$\n",
    "\n",
    "We are now ready to rewrite our circuit in terms of the $R_Z$ gate instead of $R_Y$."
   ]
  },
  {
   "cell_type": "code",
   "execution_count": 37,
   "metadata": {},
   "outputs": [
    {
     "data": {
      "text/plain": [
       "<qiskit.circuit.instructionset.InstructionSet at 0x1290d5a50>"
      ]
     },
     "execution_count": 37,
     "metadata": {},
     "output_type": "execute_result"
    }
   ],
   "source": [
    "psi = [1/2, 1/2, 1/2, 1/2]\n",
    "\n",
    "# Define the angles that will be used with the R_Y gates\n",
    "\n",
    "theta_0 = 2 * np.arccos(np.sqrt(np.sum(np.square(psi[:2]))))\n",
    "theta_10 = 2 * np.arccos(psi[0] / np.sqrt(np.sum(np.square(psi[:2]))))\n",
    "theta_11 = 2 * np.arccos(psi[2] / np.sqrt(np.sum(np.square(psi[2:]))))\n",
    "\n",
    "# Define the circuit that prepares the state psi\n",
    "\n",
    "quantum_register = QuantumRegister(size=2, name=\"q\")\n",
    "qsp_circuit = QuantumCircuit(quantum_register, name=\"Quantum State Preparation\")\n",
    "\n",
    "# Apply the equivalent of R_Y gate to qubit 1\n",
    "\n",
    "qsp_circuit.sdg(quantum_register[1])\n",
    "qsp_circuit.h(quantum_register[1])\n",
    "qsp_circuit.rz(theta_0, quantum_register[1])\n",
    "qsp_circuit.h(quantum_register[1])\n",
    "qsp_circuit.s(quantum_register[1])\n",
    "\n",
    "# Add barriers to make the circuit look more clear\n",
    "qsp_circuit.barrier()\n",
    "\n",
    "# Apply an X gate to qubit 1\n",
    "\n",
    "qsp_circuit.x(quantum_register[1])\n",
    "\n",
    "qsp_circuit.barrier()\n",
    "\n",
    "# Apply the equivalent of a controlled R_Y gate with angle theta_10, with control on qubit 1, target on qubit 0\n",
    "\n",
    "qsp_circuit.sdg(quantum_register[0])\n",
    "qsp_circuit.h(quantum_register[0])\n",
    "qsp_circuit.crz(theta_10, quantum_register[1], quantum_register[0])\n",
    "qsp_circuit.h(quantum_register[0])\n",
    "qsp_circuit.s(quantum_register[0])\n",
    "\n",
    "qsp_circuit.barrier()\n",
    "\n",
    "# Apply an X gate to qubit 1\n",
    "\n",
    "qsp_circuit.x(quantum_register[1])\n",
    "\n",
    "qsp_circuit.barrier()\n",
    "\n",
    "# Apply the equivalent of a controlled R_Y gate with angle theta_11, with control on qubit 1, target on qubit 0\n",
    "\n",
    "qsp_circuit.sdg(quantum_register[0])\n",
    "qsp_circuit.h(quantum_register[0])\n",
    "qsp_circuit.crz(theta_11, quantum_register[1], quantum_register[0])\n",
    "qsp_circuit.h(quantum_register[0])\n",
    "qsp_circuit.s(quantum_register[0])"
   ]
  },
  {
   "cell_type": "code",
   "execution_count": 12,
   "metadata": {},
   "outputs": [
    {
     "data": {
      "image/png": "[encoded data removed]",
      "text/plain": [
       "<Figure size 1875.91x200.667 with 1 Axes>"
      ]
     },
     "execution_count": 12,
     "metadata": {},
     "output_type": "execute_result"
    }
   ],
   "source": [
    "qsp_circuit.draw(output=\"mpl\")"
   ]
  },
  {
   "cell_type": "markdown",
   "metadata": {},
   "source": [
    "## Comments about the case $n\\geq 3$."
   ]
  },
  {
   "cell_type": "markdown",
   "metadata": {},
   "source": [
    "**Note.** Let $n=3$ for this note. In Qiskit, the computational basis elements are listed in the same order as their bit correspondents:\n",
    "$$\n",
    "\\ket{000}, \\ket{001}, \\ket{010}, \\ket{011}, \\ket{100},\\ket{101},\\ket{110}, \\ket{111}. \n",
    "$$\n",
    "We observe that the even indices run over basis elements with the zero qubit in the $\\ket{0}$ state, while the odd indices run over basis elements where zero qubit is in the state $\\ket{1}$."
   ]
  },
  {
   "cell_type": "markdown",
   "metadata": {},
   "source": [
    "Given a general $n$-qubit state $\\psi$ with $n\\geq 3$, we can write it as follows. \n",
    "$$\n",
    "\\psi = a \\, \\psi_0 \\otimes \\ket{0} + b\\, \\psi_1\\otimes \\ket{1} \\quad \\text{for }\\,(n-1)\\text{-qubit states }\\, \\psi_0, \\psi_1, \\,\\, \\text{for } \\, a, b \\geq 0 \\, \\text{ with } \\, a^2+b^2=1. \n",
    "$$"
   ]
  },
  {
   "cell_type": "markdown",
   "metadata": {},
   "source": [
    "Assume that the states $\\psi_0, \\psi_1$ can be prepared. "
   ]
  },
  {
   "cell_type": "markdown",
   "metadata": {},
   "source": [
    "We can rewrite $\\psi$ as\n",
    "$$\n",
    "\\psi = \\cos\\Big(\\frac{\\theta_0}{2}\\Big) \\psi_0 \\ket{0}+ \\sin\\Big(\\frac{\\theta_0}{2}\\Big) \\psi_1 \\ket{1},\n",
    "$$\n",
    "for $\\theta_0 = 2\\arccos(a)$, where $a = \\Big(\\sum_{\\substack{x \\in \\mathbb{F}_2^n, \\\\ x\\text{:even}}} \\psi_x^2\\Big)^{1/2}$. Our circuit above assumes that $a\\neq 0$. "
   ]
  },
  {
   "cell_type": "markdown",
   "metadata": {},
   "source": [
    "Suppose that $a=0$. Then we must have $b=1$ since we assumed that $b\\geq 0$, and we have $\\psi = \\psi_1 \\otimes \\ket{1}.$ This state can be prepared easily, supposing that the $(n-1)$-qubit state $\\psi_1$ is prepared."
   ]
  },
  {
   "cell_type": "markdown",
   "metadata": {},
   "source": [
    "## Note.\n",
    "We assumed positivity for the coordinates of the given vector $\\psi$. In the definition of qsp_circuit function above, for a general vector $\\psi$, we took into account the phases for each entry by applying a suitable diagonal gate. We illustrate this in the example below."
   ]
  },
  {
   "cell_type": "markdown",
   "metadata": {},
   "source": [
    "## Toy example. $n=1.$"
   ]
  },
  {
   "cell_type": "code",
   "execution_count": 13,
   "metadata": {},
   "outputs": [
    {
     "name": "stdout",
     "output_type": "stream",
     "text": [
      "Statevector([-0.70710678+0.70710678j,  0.        +0.j        ],\n",
      "            dims=(2,))\n"
     ]
    }
   ],
   "source": [
    "# Choose a psi for the sake of the example\n",
    "psi = [-1/np.sqrt(2)+1j/np.sqrt(2), 1/np.sqrt(2)+1j/np.sqrt(2)]\n",
    "\n",
    "psi_phases = [np.e**(1j*np.angle(x)) for x in psi]\n",
    "psi_phases_gate = DiagonalGate(psi_phases)\n",
    "\n",
    "qc = QuantumCircuit(1)\n",
    "qc.append(psi_phases_gate, qc.qubits)\n",
    "Statevector(qc)"
   ]
  },
  {
   "cell_type": "code",
   "execution_count": 14,
   "metadata": {},
   "outputs": [
    {
     "data": {
      "text/latex": [
       "$$(- \\frac{\\sqrt{2}}{2} + \\frac{\\sqrt{2} i}{2}) |0\\rangle$$"
      ],
      "text/plain": [
       "<IPython.core.display.Latex object>"
      ]
     },
     "execution_count": 14,
     "metadata": {},
     "output_type": "execute_result"
    }
   ],
   "source": [
    "output = Statevector(qc)\n",
    "output.draw('latex')"
   ]
  },
  {
   "cell_type": "markdown",
   "metadata": {},
   "source": [
    "## Example #1. $n=2 .$"
   ]
  },
  {
   "cell_type": "code",
   "execution_count": 17,
   "metadata": {},
   "outputs": [
    {
     "name": "stdout",
     "output_type": "stream",
     "text": [
      "Statevector([-1.38777878e-16+5.00000000e-01j,\n",
      "             -5.00000000e-01+2.77555756e-17j,\n",
      "              5.00000000e-01-2.77555756e-17j,\n",
      "             -5.00000000e-01+2.77555756e-17j],\n",
      "            dims=(2, 2))\n"
     ]
    }
   ],
   "source": [
    "psi = [1j/2, -1/2, 1/2, -1/2]\n",
    "qc= qsp(psi)\n",
    "Statevector(qc)"
   ]
  },
  {
   "cell_type": "code",
   "execution_count": 18,
   "metadata": {},
   "outputs": [
    {
     "data": {
      "text/latex": [
       "$$\\frac{i}{2} |00\\rangle- \\frac{1}{2} |01\\rangle+\\frac{1}{2} |10\\rangle- \\frac{1}{2} |11\\rangle$$"
      ],
      "text/plain": [
       "<IPython.core.display.Latex object>"
      ]
     },
     "execution_count": 18,
     "metadata": {},
     "output_type": "execute_result"
    }
   ],
   "source": [
    "output = Statevector(qc)\n",
    "output.draw('latex')"
   ]
  },
  {
   "cell_type": "markdown",
   "metadata": {},
   "source": [
    "## Example #2. $n=3 .$"
   ]
  },
  {
   "cell_type": "code",
   "execution_count": 19,
   "metadata": {},
   "outputs": [
    {
     "name": "stdout",
     "output_type": "stream",
     "text": [
      "Statevector([ 0.35355339+1.11022302e-16j,  0.35355339-2.77555756e-17j,\n",
      "              0.35355339+5.55111512e-17j, -0.35355339+2.77555756e-16j,\n",
      "              0.35355339+1.38777878e-16j,  0.35355339+0.00000000e+00j,\n",
      "              0.35355339-1.11022302e-16j, -0.35355339+3.60822483e-16j],\n",
      "            dims=(2, 2, 2))\n"
     ]
    }
   ],
   "source": [
    "psi = [1/(2*np.sqrt(2)), 1/(2*np.sqrt(2)), 1/(2*np.sqrt(2)), -1/(2*np.sqrt(2)), 1/(2*np.sqrt(2)),1/(2*np.sqrt(2)), 1/(2*np.sqrt(2)), -1/(2*np.sqrt(2))]\n",
    "qc= qsp(psi)\n",
    "Statevector(qc)"
   ]
  },
  {
   "cell_type": "code",
   "execution_count": 20,
   "metadata": {},
   "outputs": [
    {
     "data": {
      "text/latex": [
       "$$\\frac{\\sqrt{2}}{4} |000\\rangle+\\frac{\\sqrt{2}}{4} |001\\rangle+\\frac{\\sqrt{2}}{4} |010\\rangle- \\frac{\\sqrt{2}}{4} |011\\rangle+\\frac{\\sqrt{2}}{4} |100\\rangle+\\frac{\\sqrt{2}}{4} |101\\rangle+\\frac{\\sqrt{2}}{4} |110\\rangle- \\frac{\\sqrt{2}}{4} |111\\rangle$$"
      ],
      "text/plain": [
       "<IPython.core.display.Latex object>"
      ]
     },
     "execution_count": 20,
     "metadata": {},
     "output_type": "execute_result"
    }
   ],
   "source": [
    "output = Statevector(qc)\n",
    "output.draw('latex')"
   ]
  },
  {
   "cell_type": "code",
   "execution_count": 21,
   "metadata": {},
   "outputs": [
    {
     "data": {
      "image/png": "[encoded data removed]",
      "text/plain": [
       "<Figure size 1123.61x284.278 with 1 Axes>"
      ]
     },
     "execution_count": 21,
     "metadata": {},
     "output_type": "execute_result"
    }
   ],
   "source": [
    "qsp(psi).draw('mpl')"
   ]
  },
  {
   "cell_type": "markdown",
   "metadata": {},
   "source": [
    "## Example #3. $n=2 $ with a random unit vector."
   ]
  },
  {
   "cell_type": "code",
   "execution_count": 22,
   "metadata": {},
   "outputs": [],
   "source": [
    "# Define a random unit vector \n",
    "\n",
    "def random_complex_unit_vector(dim):\n",
    "    \"\"\"Generates a random unit vector in complex space.\n",
    "\n",
    "    Args:\n",
    "        dim: The dimension of the complex vector.\n",
    "\n",
    "    Returns:\n",
    "        A NumPy array representing the random unit complex vector.\n",
    "    \"\"\"\n",
    "# Generate random complex numbers\n",
    "    random_complex = np.random.rand(dim) + 1j * np.random.rand(dim)\n",
    "\n",
    "# Normalize to get a unit vector\n",
    "    unit_vector = random_complex / np.linalg.norm(random_complex)\n",
    "    return unit_vector\n",
    "\n",
    "# Example:\n",
    "dimension = 4\n",
    "unit_vector = random_complex_unit_vector(dimension)"
   ]
  },
  {
   "cell_type": "code",
   "execution_count": 23,
   "metadata": {},
   "outputs": [
    {
     "data": {
      "text/plain": [
       "array([0.32335863+0.38285183j, 0.00094241+0.39134739j,\n",
       "       0.37623884+0.16489675j, 0.422407  +0.49853358j])"
      ]
     },
     "execution_count": 23,
     "metadata": {},
     "output_type": "execute_result"
    }
   ],
   "source": [
    "unit_vector"
   ]
  },
  {
   "cell_type": "code",
   "execution_count": 24,
   "metadata": {},
   "outputs": [
    {
     "data": {
      "text/latex": [
       "$$(0.3233586254 + 0.3828518289 i) |00\\rangle+(0.0009424129 + 0.3913473934 i) |01\\rangle+(0.3762388402 + 0.1648967467 i) |10\\rangle+(0.4224069978 + 0.4985335819 i) |11\\rangle$$"
      ],
      "text/plain": [
       "<IPython.core.display.Latex object>"
      ]
     },
     "execution_count": 24,
     "metadata": {},
     "output_type": "execute_result"
    }
   ],
   "source": [
    "qc= qsp(unit_vector)\n",
    "output= Statevector(qc)\n",
    "output.draw('latex')"
   ]
  },
  {
   "cell_type": "markdown",
   "metadata": {},
   "source": [
    "## Example #4. $n=3 .$\n",
    "\n",
    "Note that in the $3$-qubit state below, the even indexed qubit states have coefficients zero, and thus $a$ which was defined above is zero."
   ]
  },
  {
   "cell_type": "code",
   "execution_count": 25,
   "metadata": {},
   "outputs": [
    {
     "name": "stdout",
     "output_type": "stream",
     "text": [
      "Statevector([ 0. +0.00000000e+00j,  0.5+8.32667268e-17j,\n",
      "              0. +0.00000000e+00j, -0.5+1.38777878e-16j,\n",
      "              0. +0.00000000e+00j, -0.5+1.66533454e-16j,\n",
      "              0. +0.00000000e+00j,  0.5+0.00000000e+00j],\n",
      "            dims=(2, 2, 2))\n"
     ]
    }
   ],
   "source": [
    "psi = [0, 1/2, 0, -1/2, 0, -1/2, 0, 1/2]\n",
    "qc= qsp(psi)\n",
    "Statevector(qc)"
   ]
  },
  {
   "cell_type": "code",
   "execution_count": 26,
   "metadata": {},
   "outputs": [
    {
     "data": {
      "text/latex": [
       "$$\\frac{1}{2} |001\\rangle- \\frac{1}{2} |011\\rangle- \\frac{1}{2} |101\\rangle+\\frac{1}{2} |111\\rangle$$"
      ],
      "text/plain": [
       "<IPython.core.display.Latex object>"
      ]
     },
     "execution_count": 26,
     "metadata": {},
     "output_type": "execute_result"
    }
   ],
   "source": [
    "# Compare the output of the function with psi\n",
    "output = Statevector(qc)\n",
    "output.draw('latex')"
   ]
  },
  {
   "cell_type": "code",
   "execution_count": null,
   "metadata": {},
   "outputs": [],
   "source": []
  }
 ],
 "metadata": {
  "colab": {
   "provenance": []
  },
  "kernelspec": {
   "display_name": "Python 3 (ipykernel)",
   "language": "python",
   "name": "python3"
  },
  "language_info": {
   "codemirror_mode": {
    "name": "ipython",
    "version": 3
   },
   "file_extension": ".py",
   "mimetype": "text/x-python",
   "name": "python",
   "nbconvert_exporter": "python",
   "pygments_lexer": "ipython3",
   "version": "3.12.4"
  }
 },
 "nbformat": 4,
 "nbformat_minor": 4
}
